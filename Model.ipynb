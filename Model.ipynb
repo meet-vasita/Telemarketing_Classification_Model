{
 "cells": [
  {
   "cell_type": "code",
   "execution_count": 1,
   "id": "bf0a96a0",
   "metadata": {},
   "outputs": [],
   "source": [
    "#Importing Data Manipulation Libraries\n",
    "import numpy as np\n",
    "import pandas as pd\n",
    "#Importing Data Visualization Libraries\n",
    "import matplotlib.pyplot as plt\n",
    "import seaborn as sns\n",
    "# Importing Warnings\n",
    "import warnings \n",
    "warnings.filterwarnings('ignore')\n",
    "#Importing Scikit-Learn Library\n",
    "from sklearn.preprocessing import MinMaxScaler,RobustScaler,StandardScaler\n",
    "from sklearn.model_selection import train_test_split;\n",
    "#Importing Metrics for Regression Model\n",
    "from sklearn.metrics import r2_score,mean_absolute_error,mean_squared_error\n",
    "from sklearn.feature_selection import SelectKBest,f_regression,mutual_info_regression\n",
    "#Importing Logging\n",
    "import logging\n",
    "logging.basicConfig(level=logging.INFO,\n",
    "                    format='%(asctime)s - %(levelname)s - %(message)s',\n",
    "                    filemode='w',\n",
    "                    filename='model.log',force=True)\n"
   ]
  },
  {
   "cell_type": "code",
   "execution_count": null,
   "id": "4ae1d6a6",
   "metadata": {},
   "outputs": [],
   "source": []
  }
 ],
 "metadata": {
  "kernelspec": {
   "display_name": "Python 3",
   "language": "python",
   "name": "python3"
  },
  "language_info": {
   "codemirror_mode": {
    "name": "ipython",
    "version": 3
   },
   "file_extension": ".py",
   "mimetype": "text/x-python",
   "name": "python",
   "nbconvert_exporter": "python",
   "pygments_lexer": "ipython3",
   "version": "3.10.11"
  }
 },
 "nbformat": 4,
 "nbformat_minor": 5
}
